{
 "cells": [
  {
   "cell_type": "markdown",
   "metadata": {
    "collapsed": true,
    "deletable": true,
    "editable": true
   },
   "source": [
    "# Image Classification\n",
    "In this project, you'll classify images from the [CIFAR-10 dataset](https://www.cs.toronto.edu/~kriz/cifar.html).  The dataset consists of airplanes, dogs, cats, and other objects. You'll preprocess the images, then train a convolutional neural network on all the samples. The images need to be normalized and the labels need to be one-hot encoded.  You'll get to apply what you learned and build a convolutional, max pooling, dropout, and fully connected layers.  At the end, you'll get to see your neural network's predictions on the sample images.\n",
    "## Get the Data\n",
    "Run the following cell to download the [CIFAR-10 dataset for python](https://www.cs.toronto.edu/~kriz/cifar-10-python.tar.gz)."
   ]
  },
  {
   "cell_type": "code",
   "execution_count": 1,
   "metadata": {
    "collapsed": false,
    "deletable": true,
    "editable": true
   },
   "outputs": [
    {
     "name": "stdout",
     "output_type": "stream",
     "text": [
      "All files found!\n"
     ]
    }
   ],
   "source": [
    "\"\"\"\n",
    "DON'T MODIFY ANYTHING IN THIS CELL THAT IS BELOW THIS LINE\n",
    "\"\"\"\n",
    "from urllib.request import urlretrieve\n",
    "from os.path import isfile, isdir\n",
    "from tqdm import tqdm\n",
    "import problem_unittests as tests\n",
    "import tarfile\n",
    "\n",
    "cifar10_dataset_folder_path = 'cifar-10-batches-py'\n",
    "\n",
    "# Use Floyd's cifar-10 dataset if present\n",
    "floyd_cifar10_location = '/input/cifar-10/python.tar.gz'\n",
    "if isfile(floyd_cifar10_location):\n",
    "    tar_gz_path = floyd_cifar10_location\n",
    "else:\n",
    "    tar_gz_path = 'cifar-10-python.tar.gz'\n",
    "\n",
    "class DLProgress(tqdm):\n",
    "    last_block = 0\n",
    "\n",
    "    def hook(self, block_num=1, block_size=1, total_size=None):\n",
    "        self.total = total_size\n",
    "        self.update((block_num - self.last_block) * block_size)\n",
    "        self.last_block = block_num\n",
    "\n",
    "if not isfile(tar_gz_path):\n",
    "    with DLProgress(unit='B', unit_scale=True, miniters=1, desc='CIFAR-10 Dataset') as pbar:\n",
    "        urlretrieve(\n",
    "            'https://www.cs.toronto.edu/~kriz/cifar-10-python.tar.gz',\n",
    "            tar_gz_path,\n",
    "            pbar.hook)\n",
    "\n",
    "if not isdir(cifar10_dataset_folder_path):\n",
    "    with tarfile.open(tar_gz_path) as tar:\n",
    "        tar.extractall()\n",
    "        tar.close()\n",
    "\n",
    "\n",
    "tests.test_folder_path(cifar10_dataset_folder_path)"
   ]
  },
  {
   "cell_type": "markdown",
   "metadata": {
    "deletable": true,
    "editable": true
   },
   "source": [
    "## Explore the Data\n",
    "The dataset is broken into batches to prevent your machine from running out of memory.  The CIFAR-10 dataset consists of 5 batches, named `data_batch_1`, `data_batch_2`, etc.. Each batch contains the labels and images that are one of the following:\n",
    "* airplane\n",
    "* automobile\n",
    "* bird\n",
    "* cat\n",
    "* deer\n",
    "* dog\n",
    "* frog\n",
    "* horse\n",
    "* ship\n",
    "* truck\n",
    "\n",
    "Understanding a dataset is part of making predictions on the data.  Play around with the code cell below by changing the `batch_id` and `sample_id`. The `batch_id` is the id for a batch (1-5). The `sample_id` is the id for a image and label pair in the batch.\n",
    "\n",
    "Ask yourself \"What are all possible labels?\", \"What is the range of values for the image data?\", \"Are the labels in order or random?\".  Answers to questions like these will help you preprocess the data and end up with better predictions."
   ]
  },
  {
   "cell_type": "code",
   "execution_count": 3,
   "metadata": {
    "collapsed": false,
    "deletable": true,
    "editable": true
   },
   "outputs": [
    {
     "name": "stdout",
     "output_type": "stream",
     "text": [
      "\n",
      "Stats of batch 1:\n",
      "Samples: 10000\n",
      "Label Counts: {0: 1005, 1: 974, 2: 1032, 3: 1016, 4: 999, 5: 937, 6: 1030, 7: 1001, 8: 1025, 9: 981}\n",
      "First 20 Labels: [6, 9, 9, 4, 1, 1, 2, 7, 8, 3, 4, 7, 7, 2, 9, 9, 9, 3, 2, 6]\n",
      "\n",
      "Example of Image 5:\n",
      "Image - Min Value: 0 Max Value: 252\n",
      "Image - Shape: (32, 32, 3)\n",
      "Label - Label Id: 1 Name: automobile\n"
     ]
    },
    {
     "data": {
      "image/png": "[encoded data removed]",
      "text/plain": [
       "<matplotlib.figure.Figure at 0x7f6ea45f6d30>"
      ]
     },
     "metadata": {
      "image/png": {
       "height": 250,
       "width": 253
      }
     },
     "output_type": "display_data"
    }
   ],
   "source": [
    "%matplotlib inline\n",
    "%config InlineBackend.figure_format = 'retina'\n",
    "\n",
    "import helper\n",
    "import numpy as np\n",
    "\n",
    "# Explore the dataset\n",
    "batch_id = 1\n",
    "sample_id = 5\n",
    "helper.display_stats(cifar10_dataset_folder_path, batch_id, sample_id)"
   ]
  },
  {
   "cell_type": "markdown",
   "metadata": {
    "deletable": true,
    "editable": true
   },
   "source": [
    "## Implement Preprocess Functions\n",
    "### Normalize\n",
    "In the cell below, implement the `normalize` function to take in image data, `x`, and return it as a normalized Numpy array. The values should be in the range of 0 to 1, inclusive.  The return object should be the same shape as `x`."
   ]
  },
  {
   "cell_type": "code",
   "execution_count": 4,
   "metadata": {
    "collapsed": false,
    "deletable": true,
    "editable": true
   },
   "outputs": [
    {
     "name": "stdout",
     "output_type": "stream",
     "text": [
      "Tests Passed\n"
     ]
    }
   ],
   "source": [
    "def normalize(x):\n",
    "    \"\"\"\n",
    "    Normalize a list of sample image data in the range of 0 to 1\n",
    "    : x: List of image data.  The image shape is (32, 32, 3)\n",
    "    : return: Numpy array of normalize data\n",
    "    \"\"\"\n",
    "    # TODO: Implement Function\n",
    "    norm =np.array(x/255)\n",
    "    return norm\n",
    "\n",
    "\n",
    "\"\"\"\n",
    "DON'T MODIFY ANYTHING IN THIS CELL THAT IS BELOW THIS LINE\n",
    "\"\"\"\n",
    "tests.test_normalize(normalize)"
   ]
  },
  {
   "cell_type": "markdown",
   "metadata": {
    "deletable": true,
    "editable": true
   },
   "source": [
    "### One-hot encode\n",
    "Just like the previous code cell, you'll be implementing a function for preprocessing.  This time, you'll implement the `one_hot_encode` function. The input, `x`, are a list of labels.  Implement the function to return the list of labels as One-Hot encoded Numpy array.  The possible values for labels are 0 to 9. The one-hot encoding function should return the same encoding for each value between each call to `one_hot_encode`.  Make sure to save the map of encodings outside the function.\n",
    "\n",
    "Hint: Don't reinvent the wheel."
   ]
  },
  {
   "cell_type": "code",
   "execution_count": 6,
   "metadata": {
    "collapsed": false,
    "deletable": true,
    "editable": true
   },
   "outputs": [
    {
     "name": "stdout",
     "output_type": "stream",
     "text": [
      "Tests Passed\n"
     ]
    }
   ],
   "source": [
    "from sklearn.preprocessing import OneHotEncoder\n",
    "onehotEncoder = OneHotEncoder(n_values=10)\n",
    "\n",
    "def one_hot_encode(x):\n",
    "    \"\"\"\n",
    "    One hot encode a list of sample labels. Return a one-hot encoded vector for each label.\n",
    "    : x: List of sample Labels\n",
    "    : return: Numpy array of one-hot encoded labels\n",
    "    \"\"\"\n",
    "    # TODO: Implement Function\n",
    "    n = np.array(x).reshape(-1,1)\n",
    "    return onehotEncoder.fit_transform(n).toarray()\n",
    "\n",
    "\n",
    "\"\"\"\n",
    "DON'T MODIFY ANYTHING IN THIS CELL THAT IS BELOW THIS LINE\n",
    "\"\"\"\n",
    "tests.test_one_hot_encode(one_hot_encode)"
   ]
  },
  {
   "cell_type": "markdown",
   "metadata": {
    "deletable": true,
    "editable": true
   },
   "source": [
    "### Randomize Data\n",
    "As you saw from exploring the data above, the order of the samples are randomized.  It doesn't hurt to randomize it again, but you don't need to for this dataset."
   ]
  },
  {
   "cell_type": "markdown",
   "metadata": {
    "deletable": true,
    "editable": true
   },
   "source": [
    "## Preprocess all the data and save it\n",
    "Running the code cell below will preprocess all the CIFAR-10 data and save it to file. The code below also uses 10% of the training data for validation."
   ]
  },
  {
   "cell_type": "code",
   "execution_count": 7,
   "metadata": {
    "collapsed": false,
    "deletable": true,
    "editable": true
   },
   "outputs": [],
   "source": [
    "\"\"\"\n",
    "DON'T MODIFY ANYTHING IN THIS CELL\n",
    "\"\"\"\n",
    "# Preprocess Training, Validation, and Testing Data\n",
    "helper.preprocess_and_save_data(cifar10_dataset_folder_path, normalize, one_hot_encode)"
   ]
  },
  {
   "cell_type": "markdown",
   "metadata": {
    "deletable": true,
    "editable": true
   },
   "source": [
    "# Check Point\n",
    "This is your first checkpoint.  If you ever decide to come back to this notebook or have to restart the notebook, you can start from here.  The preprocessed data has been saved to disk."
   ]
  },
  {
   "cell_type": "code",
   "execution_count": 8,
   "metadata": {
    "collapsed": true,
    "deletable": true,
    "editable": true
   },
   "outputs": [],
   "source": [
    "\"\"\"\n",
    "DON'T MODIFY ANYTHING IN THIS CELL\n",
    "\"\"\"\n",
    "import pickle\n",
    "import problem_unittests as tests\n",
    "import helper\n",
    "\n",
    "# Load the Preprocessed Validation data\n",
    "valid_features, valid_labels = pickle.load(open('preprocess_validation.p', mode='rb'))"
   ]
  },
  {
   "cell_type": "markdown",
   "metadata": {
    "deletable": true,
    "editable": true
   },
   "source": [
    "## Build the network\n",
    "For the neural network, you'll build each layer into a function.  Most of the code you've seen has been outside of functions. To test your code more thoroughly, we require that you put each layer in a function.  This allows us to give you better feedback and test for simple mistakes using our unittests before you submit your project.\n",
    "\n",
    ">**Note:** If you're finding it hard to dedicate enough time for this course each week, we've provided a small shortcut to this part of the project. In the next couple of problems, you'll have the option to use classes from the [TensorFlow Layers](https://www.tensorflow.org/api_docs/python/tf/layers) or [TensorFlow Layers (contrib)](https://www.tensorflow.org/api_guides/python/contrib.layers) packages to build each layer, except the layers you build in the \"Convolutional and Max Pooling Layer\" section.  TF Layers is similar to Keras's and TFLearn's abstraction to layers, so it's easy to pickup.\n",
    "\n",
    ">However, if you would like to get the most out of this course, try to solve all the problems _without_ using anything from the TF Layers packages. You **can** still use classes from other packages that happen to have the same name as ones you find in TF Layers! For example, instead of using the TF Layers version of the `conv2d` class, [tf.layers.conv2d](https://www.tensorflow.org/api_docs/python/tf/layers/conv2d), you would want to use the TF Neural Network version of `conv2d`, [tf.nn.conv2d](https://www.tensorflow.org/api_docs/python/tf/nn/conv2d). \n",
    "\n",
    "Let's begin!\n",
    "\n",
    "### Input\n",
    "The neural network needs to read the image data, one-hot encoded labels, and dropout keep probability. Implement the following functions\n",
    "* Implement `neural_net_image_input`\n",
    " * Return a [TF Placeholder](https://www.tensorflow.org/api_docs/python/tf/placeholder)\n",
    " * Set the shape using `image_shape` with batch size set to `None`.\n",
    " * Name the TensorFlow placeholder \"x\" using the TensorFlow `name` parameter in the [TF Placeholder](https://www.tensorflow.org/api_docs/python/tf/placeholder).\n",
    "* Implement `neural_net_label_input`\n",
    " * Return a [TF Placeholder](https://www.tensorflow.org/api_docs/python/tf/placeholder)\n",
    " * Set the shape using `n_classes` with batch size set to `None`.\n",
    " * Name the TensorFlow placeholder \"y\" using the TensorFlow `name` parameter in the [TF Placeholder](https://www.tensorflow.org/api_docs/python/tf/placeholder).\n",
    "* Implement `neural_net_keep_prob_input`\n",
    " * Return a [TF Placeholder](https://www.tensorflow.org/api_docs/python/tf/placeholder) for dropout keep probability.\n",
    " * Name the TensorFlow placeholder \"keep_prob\" using the TensorFlow `name` parameter in the [TF Placeholder](https://www.tensorflow.org/api_docs/python/tf/placeholder).\n",
    "\n",
    "These names will be used at the end of the project to load your saved model.\n",
    "\n",
    "Note: `None` for shapes in TensorFlow allow for a dynamic size."
   ]
  },
  {
   "cell_type": "code",
   "execution_count": 9,
   "metadata": {
    "collapsed": false,
    "deletable": true,
    "editable": true
   },
   "outputs": [
    {
     "name": "stdout",
     "output_type": "stream",
     "text": [
      "Image Input Tests Passed.\n",
      "Label Input Tests Passed.\n",
      "Keep Prob Tests Passed.\n"
     ]
    }
   ],
   "source": [
    "import tensorflow as tf\n",
    "\n",
    "def neural_net_image_input(image_shape):\n",
    "    \"\"\"\n",
    "    Return a Tensor for a batch of image input\n",
    "    : image_shape: Shape of the images\n",
    "    : return: Tensor for image input.\n",
    "    \"\"\"\n",
    "    # TODO: Implement Function\n",
    "    return tf.placeholder(tf.float32, shape=(None, *image_shape), name='x')\n",
    "\n",
    "\n",
    "def neural_net_label_input(n_classes):\n",
    "    \"\"\"\n",
    "    Return a Tensor for a batch of label input\n",
    "    : n_classes: Number of classes\n",
    "    : return: Tensor for label input.\n",
    "    \"\"\"\n",
    "    # TODO: Implement Function\n",
    "    return tf.placeholder(tf.float32, shape=(None, n_classes), name='y')\n",
    "\n",
    "\n",
    "def neural_net_keep_prob_input():\n",
    "    \"\"\"\n",
    "    Return a Tensor for keep probability\n",
    "    : return: Tensor for keep probability.\n",
    "    \"\"\"\n",
    "    # TODO: Implement Function\n",
    "    return tf.placeholder(tf.float32, name='keep_prob')\n",
    "\n",
    "\n",
    "\"\"\"\n",
    "DON'T MODIFY ANYTHING IN THIS CELL THAT IS BELOW THIS LINE\n",
    "\"\"\"\n",
    "tf.reset_default_graph()\n",
    "tests.test_nn_image_inputs(neural_net_image_input)\n",
    "tests.test_nn_label_inputs(neural_net_label_input)\n",
    "tests.test_nn_keep_prob_inputs(neural_net_keep_prob_input)"
   ]
  },
  {
   "cell_type": "markdown",
   "metadata": {
    "deletable": true,
    "editable": true
   },
   "source": [
    "### Convolution and Max Pooling Layer\n",
    "Convolution layers have a lot of success with images. For this code cell, you should implement the function `conv2d_maxpool` to apply convolution then max pooling:\n",
    "* Create the weight and bias using `conv_ksize`, `conv_num_outputs` and the shape of `x_tensor`.\n",
    "* Apply a convolution to `x_tensor` using weight and `conv_strides`.\n",
    " * We recommend you use same padding, but you're welcome to use any padding.\n",
    "* Add bias\n",
    "* Add a nonlinear activation to the convolution.\n",
    "* Apply Max Pooling using `pool_ksize` and `pool_strides`.\n",
    " * We recommend you use same padding, but you're welcome to use any padding.\n",
    "\n",
    "**Note:** You **can't** use [TensorFlow Layers](https://www.tensorflow.org/api_docs/python/tf/layers) or [TensorFlow Layers (contrib)](https://www.tensorflow.org/api_guides/python/contrib.layers) for **this** layer, but you can still use TensorFlow's [Neural Network](https://www.tensorflow.org/api_docs/python/tf/nn) package. You may still use the shortcut option for all the **other** layers."
   ]
  },
  {
   "cell_type": "code",
   "execution_count": 10,
   "metadata": {
    "collapsed": false,
    "deletable": true,
    "editable": true
   },
   "outputs": [
    {
     "name": "stdout",
     "output_type": "stream",
     "text": [
      "Tests Passed\n"
     ]
    }
   ],
   "source": [
    "def conv2d_maxpool(x_tensor, conv_num_outputs, conv_ksize, conv_strides, pool_ksize, pool_strides):\n",
    "    \"\"\"\n",
    "    Apply convolution then max pooling to x_tensor\n",
    "    :param x_tensor: TensorFlow Tensor\n",
    "    :param conv_num_outputs: Number of outputs for the convolutional layer\n",
    "    :param conv_ksize: kernal size 2-D Tuple for the convolutional layer\n",
    "    :param conv_strides: Stride 2-D Tuple for convolution\n",
    "    :param pool_ksize: kernal size 2-D Tuple for pool\n",
    "    :param pool_strides: Stride 2-D Tuple for pool\n",
    "    : return: A tensor that represents convolution and max pooling of x_tensor\n",
    "    \"\"\"\n",
    "    # TODO: Implement Function\n",
    "    depth = x_tensor.get_shape().as_list()[3]\n",
    "    weight = tf.Variable(tf.truncated_normal([*conv_ksize,depth,conv_num_outputs], mean=.0, stddev=.01))\n",
    "    bias = tf.Variable(tf.zeros(conv_num_outputs))\n",
    "    padding = 'SAME'\n",
    "    \n",
    "    conv = tf.nn.conv2d(x_tensor, weight, padding=padding, strides=[1,*conv_strides,1], use_cudnn_on_gpu=True)\n",
    "    conv = tf.nn.bias_add(conv, bias)\n",
    "    conv = tf.nn.relu(conv)\n",
    "    \n",
    "    return tf.nn.max_pool(value=conv, ksize=[1,*pool_ksize,1], strides=[1,*pool_strides,1], padding=padding, name='max_pool')\n",
    "\n",
    "\n",
    "\"\"\"\n",
    "DON'T MODIFY ANYTHING IN THIS CELL THAT IS BELOW THIS LINE\n",
    "\"\"\"\n",
    "tests.test_con_pool(conv2d_maxpool)"
   ]
  },
  {
   "cell_type": "markdown",
   "metadata": {
    "deletable": true,
    "editable": true
   },
   "source": [
    "### Flatten Layer\n",
    "Implement the `flatten` function to change the dimension of `x_tensor` from a 4-D tensor to a 2-D tensor.  The output should be the shape (*Batch Size*, *Flattened Image Size*). Shortcut option: you can use classes from the [TensorFlow Layers](https://www.tensorflow.org/api_docs/python/tf/layers) or [TensorFlow Layers (contrib)](https://www.tensorflow.org/api_guides/python/contrib.layers) packages for this layer. For more of a challenge, only use other TensorFlow packages."
   ]
  },
  {
   "cell_type": "code",
   "execution_count": 11,
   "metadata": {
    "collapsed": false,
    "deletable": true,
    "editable": true
   },
   "outputs": [
    {
     "name": "stdout",
     "output_type": "stream",
     "text": [
      "Tests Passed\n"
     ]
    }
   ],
   "source": [
    "def flatten(x_tensor):\n",
    "    \"\"\"\n",
    "    Flatten x_tensor to (Batch Size, Flattened Image Size)\n",
    "    : x_tensor: A tensor of size (Batch Size, ...), where ... are the image dimensions.\n",
    "    : return: A tensor of size (Batch Size, Flattened Image Size).\n",
    "    \"\"\"\n",
    "    # TODO: Implement Function\n",
    "    dim = 1\n",
    "    for shape in  x_tensor.get_shape().as_list()[1:]:\n",
    "        dim *= shape\n",
    "    return tf.reshape(x_tensor, [-1, dim]) \n",
    "\n",
    "\n",
    "\n",
    "\"\"\"\n",
    "DON'T MODIFY ANYTHING IN THIS CELL THAT IS BELOW THIS LINE\n",
    "\"\"\"\n",
    "tests.test_flatten(flatten)"
   ]
  },
  {
   "cell_type": "markdown",
   "metadata": {
    "deletable": true,
    "editable": true
   },
   "source": [
    "### Fully-Connected Layer\n",
    "Implement the `fully_conn` function to apply a fully connected layer to `x_tensor` with the shape (*Batch Size*, *num_outputs*). Shortcut option: you can use classes from the [TensorFlow Layers](https://www.tensorflow.org/api_docs/python/tf/layers) or [TensorFlow Layers (contrib)](https://www.tensorflow.org/api_guides/python/contrib.layers) packages for this layer. For more of a challenge, only use other TensorFlow packages."
   ]
  },
  {
   "cell_type": "code",
   "execution_count": 12,
   "metadata": {
    "collapsed": false,
    "deletable": true,
    "editable": true
   },
   "outputs": [
    {
     "name": "stdout",
     "output_type": "stream",
     "text": [
      "Tests Passed\n"
     ]
    }
   ],
   "source": [
    "def fully_conn(x_tensor, num_outputs):\n",
    "    \"\"\"\n",
    "    Apply a fully connected layer to x_tensor using weight and bias\n",
    "    : x_tensor: A 2-D tensor where the first dimension is batch size.\n",
    "    : num_outputs: The number of output that the new tensor should be.\n",
    "    : return: A 2-D tensor where the second dimension is num_outputs.\n",
    "    \"\"\"\n",
    "    # TODO: Implement Function\n",
    "    batch_size = x_tensor.get_shape().as_list()[-1]\n",
    "    weights = tf.Variable(tf.truncated_normal([batch_size, num_outputs], mean=.0, stddev=.01), name=\"weights_fully_conn\")\n",
    "    bias = tf.Variable(tf.zeros([num_outputs]), name=\"bias_fully_conn\")\n",
    "    linear = tf.nn.bias_add(tf.matmul(x_tensor, weights), bias)\n",
    "    return tf.nn.relu(linear)\n",
    "\n",
    "\n",
    "\"\"\"\n",
    "DON'T MODIFY ANYTHING IN THIS CELL THAT IS BELOW THIS LINE\n",
    "\"\"\"\n",
    "tests.test_fully_conn(fully_conn)"
   ]
  },
  {
   "cell_type": "markdown",
   "metadata": {
    "deletable": true,
    "editable": true
   },
   "source": [
    "### Output Layer\n",
    "Implement the `output` function to apply a fully connected layer to `x_tensor` with the shape (*Batch Size*, *num_outputs*). Shortcut option: you can use classes from the [TensorFlow Layers](https://www.tensorflow.org/api_docs/python/tf/layers) or [TensorFlow Layers (contrib)](https://www.tensorflow.org/api_guides/python/contrib.layers) packages for this layer. For more of a challenge, only use other TensorFlow packages.\n",
    "\n",
    "**Note:** Activation, softmax, or cross entropy should **not** be applied to this."
   ]
  },
  {
   "cell_type": "code",
   "execution_count": 13,
   "metadata": {
    "collapsed": false,
    "deletable": true,
    "editable": true
   },
   "outputs": [
    {
     "name": "stdout",
     "output_type": "stream",
     "text": [
      "Tests Passed\n"
     ]
    }
   ],
   "source": [
    "def output(x_tensor, num_outputs):\n",
    "    \"\"\"\n",
    "    Apply a output layer to x_tensor using weight and bias\n",
    "    : x_tensor: A 2-D tensor where the first dimension is batch size.\n",
    "    : num_outputs: The number of output that the new tensor should be.\n",
    "    : return: A 2-D tensor where the second dimension is num_outputs.\n",
    "    \"\"\"\n",
    "    # TODO: Implement Function\n",
    "    depth = x_tensor.get_shape().as_list()[-1]\n",
    "    weights = tf.Variable(tf.random_normal([depth, num_outputs], mean=.0, stddev=.01), name=\"weights_fully_conn\")\n",
    "    bias = tf.Variable(tf.zeros([num_outputs]))\n",
    "    linear = tf.nn.bias_add(tf.matmul(x_tensor, weights), bias)\n",
    "    return linear\n",
    "\n",
    "\n",
    "\"\"\"\n",
    "DON'T MODIFY ANYTHING IN THIS CELL THAT IS BELOW THIS LINE\n",
    "\"\"\"\n",
    "tests.test_output(output)"
   ]
  },
  {
   "cell_type": "markdown",
   "metadata": {
    "deletable": true,
    "editable": true
   },
   "source": [
    "### Create Convolutional Model\n",
    "Implement the function `conv_net` to create a convolutional neural network model. The function takes in a batch of images, `x`, and outputs logits.  Use the layers you created above to create this model:\n",
    "\n",
    "* Apply 1, 2, or 3 Convolution and Max Pool layers\n",
    "* Apply a Flatten Layer\n",
    "* Apply 1, 2, or 3 Fully Connected Layers\n",
    "* Apply an Output Layer\n",
    "* Return the output\n",
    "* Apply [TensorFlow's Dropout](https://www.tensorflow.org/api_docs/python/tf/nn/dropout) to one or more layers in the model using `keep_prob`. "
   ]
  },
  {
   "cell_type": "code",
   "execution_count": 14,
   "metadata": {
    "collapsed": false,
    "deletable": true,
    "editable": true
   },
   "outputs": [
    {
     "name": "stdout",
     "output_type": "stream",
     "text": [
      "Neural Network Built!\n"
     ]
    }
   ],
   "source": [
    "def conv_net(x, keep_prob):\n",
    "    \"\"\"\n",
    "    Create a convolutional neural network model\n",
    "    : x: Placeholder tensor that holds image data.\n",
    "    : keep_prob: Placeholder tensor that hold dropout keep probability.\n",
    "    : return: Tensor that represents logits\n",
    "    \"\"\"\n",
    "    # TODO: Apply 1, 2, or 3 Convolution and Max Pool layers\n",
    "    #    Play around with different number of outputs, kernel size and stride\n",
    "    # Function Definition from Above:\n",
    "    #    conv2d_maxpool(x_tensor, conv_num_outputs, conv_ksize, conv_strides, pool_ksize, pool_strides)\n",
    "    conv_num_outputs = [64,128,256]\n",
    "\n",
    "    conv_strides = [(2,2), (2,2), (2,2)]\n",
    "    conv_ksize = [(4,4), (6,6), (8,8)]\n",
    "\n",
    "    pool_ksize = (4,4)\n",
    "    pool_strides = (2,2)\n",
    "    \n",
    "    conv_layer_1 = conv2d_maxpool(x, conv_num_outputs[0], conv_ksize[0], conv_strides[0], pool_ksize, pool_strides)\n",
    "\n",
    "    conv_layer_2 = conv2d_maxpool(conv_layer_1,conv_num_outputs[1], conv_ksize[1], conv_strides[1], pool_ksize, pool_strides)\n",
    "\n",
    "    conv_layer_2 = tf.nn.dropout(conv_layer_2, keep_prob)\n",
    "    \n",
    "\n",
    "    # TODO: Apply a Flatten Layer\n",
    "    # Function Definition from Above:\n",
    "    #   flatten(x_tensor)\n",
    "    x_tensor = flatten(conv_layer_2)\n",
    "\n",
    "    # TODO: Apply 1, 2, or 3 Fully Connected Layers\n",
    "    #    Play around with different number of outputs\n",
    "    # Function Definition from Above:\n",
    "    #   fully_conn(x_tensor, num_outputs)\n",
    "    num_outputs = (256, 128)\n",
    "    fully_conn_1 = fully_conn(x_tensor, num_outputs[0])\n",
    "    fully_conn_1 = tf.nn.dropout(fully_conn_1, keep_prob)\n",
    "    fully_conn_2 = fully_conn(fully_conn_1, num_outputs[1])\n",
    "    \n",
    "    \n",
    "    # TODO: Apply an Output Layer\n",
    "    #    Set this to the number of classes\n",
    "    # Function Definition from Above:\n",
    "    #   output(x_tensor, num_outputs)\n",
    "    final_out = output(fully_conn_2, 10)\n",
    "    \n",
    "    # TODO: return output\n",
    "    return final_out\n",
    "\n",
    "\n",
    "\"\"\"\n",
    "DON'T MODIFY ANYTHING IN THIS CELL THAT IS BELOW THIS LINE\n",
    "\"\"\"\n",
    "\n",
    "##############################\n",
    "## Build the Neural Network ##\n",
    "##############################\n",
    "\n",
    "# Remove previous weights, bias, inputs, etc..\n",
    "tf.reset_default_graph()\n",
    "\n",
    "# Inputs\n",
    "x = neural_net_image_input((32, 32, 3))\n",
    "y = neural_net_label_input(10)\n",
    "keep_prob = neural_net_keep_prob_input()\n",
    "\n",
    "# Model\n",
    "logits = conv_net(x, keep_prob)\n",
    "\n",
    "# Name logits Tensor, so that is can be loaded from disk after training\n",
    "logits = tf.identity(logits, name='logits')\n",
    "\n",
    "# Loss and Optimizer\n",
    "cost = tf.reduce_mean(tf.nn.softmax_cross_entropy_with_logits(logits=logits, labels=y))\n",
    "optimizer = tf.train.AdamOptimizer().minimize(cost)\n",
    "\n",
    "# Accuracy\n",
    "correct_pred = tf.equal(tf.argmax(logits, 1), tf.argmax(y, 1))\n",
    "accuracy = tf.reduce_mean(tf.cast(correct_pred, tf.float32), name='accuracy')\n",
    "\n",
    "tests.test_conv_net(conv_net)"
   ]
  },
  {
   "cell_type": "markdown",
   "metadata": {
    "deletable": true,
    "editable": true
   },
   "source": [
    "## Train the Neural Network\n",
    "### Single Optimization\n",
    "Implement the function `train_neural_network` to do a single optimization.  The optimization should use `optimizer` to optimize in `session` with a `feed_dict` of the following:\n",
    "* `x` for image input\n",
    "* `y` for labels\n",
    "* `keep_prob` for keep probability for dropout\n",
    "\n",
    "This function will be called for each batch, so `tf.global_variables_initializer()` has already been called.\n",
    "\n",
    "Note: Nothing needs to be returned. This function is only optimizing the neural network."
   ]
  },
  {
   "cell_type": "code",
   "execution_count": 15,
   "metadata": {
    "collapsed": false,
    "deletable": true,
    "editable": true
   },
   "outputs": [
    {
     "name": "stdout",
     "output_type": "stream",
     "text": [
      "Tests Passed\n"
     ]
    }
   ],
   "source": [
    "def train_neural_network(session, optimizer, keep_probability, feature_batch, label_batch):\n",
    "    \"\"\"\n",
    "    Optimize the session on a batch of images and labels\n",
    "    : session: Current TensorFlow session\n",
    "    : optimizer: TensorFlow optimizer function\n",
    "    : keep_probability: keep probability\n",
    "    : feature_batch: Batch of Numpy image data\n",
    "    : label_batch: Batch of Numpy label data\n",
    "    \"\"\"\n",
    "    # TODO: Implement Function\n",
    "    session.run(optimizer, feed_dict={x: feature_batch, y: label_batch, keep_prob: keep_probability})\n",
    "\n",
    "\n",
    "\"\"\"\n",
    "DON'T MODIFY ANYTHING IN THIS CELL THAT IS BELOW THIS LINE\n",
    "\"\"\"\n",
    "tests.test_train_nn(train_neural_network)"
   ]
  },
  {
   "cell_type": "markdown",
   "metadata": {
    "deletable": true,
    "editable": true
   },
   "source": [
    "### Show Stats\n",
    "Implement the function `print_stats` to print loss and validation accuracy.  Use the global variables `valid_features` and `valid_labels` to calculate validation accuracy.  Use a keep probability of `1.0` to calculate the loss and validation accuracy."
   ]
  },
  {
   "cell_type": "code",
   "execution_count": 16,
   "metadata": {
    "collapsed": false,
    "deletable": true,
    "editable": true
   },
   "outputs": [],
   "source": [
    "def print_stats(session, feature_batch, label_batch, cost, accuracy):\n",
    "    \"\"\"\n",
    "    Print information about loss and validation accuracy\n",
    "    : session: Current TensorFlow session\n",
    "    : feature_batch: Batch of Numpy image data\n",
    "    : label_batch: Batch of Numpy label data\n",
    "    : cost: TensorFlow cost function\n",
    "    : accuracy: TensorFlow accuracy function\n",
    "    \"\"\"\n",
    "    # TODO: Implement Function\n",
    "    cost = sess.run(cost, feed_dict={x: feature_batch, y: label_batch, keep_prob: 1.})\n",
    "    acc = sess.run(accuracy, feed_dict={x: valid_features, y: valid_labels, keep_prob: 1.})\n",
    "    print('Loss: ', cost, ' Accuracy: ', acc)\n",
    "    pass"
   ]
  },
  {
   "cell_type": "markdown",
   "metadata": {
    "deletable": true,
    "editable": true
   },
   "source": [
    "### Hyperparameters\n",
    "Tune the following parameters:\n",
    "* Set `epochs` to the number of iterations until the network stops learning or start overfitting\n",
    "* Set `batch_size` to the highest number that your machine has memory for.  Most people set them to common sizes of memory:\n",
    " * 64\n",
    " * 128\n",
    " * 256\n",
    " * ...\n",
    "* Set `keep_probability` to the probability of keeping a node using dropout"
   ]
  },
  {
   "cell_type": "code",
   "execution_count": 17,
   "metadata": {
    "collapsed": true,
    "deletable": true,
    "editable": true
   },
   "outputs": [],
   "source": [
    "# TODO: Tune Parameters\n",
    "epochs = 45\n",
    "batch_size = 512\n",
    "keep_probability = .7"
   ]
  },
  {
   "cell_type": "markdown",
   "metadata": {
    "deletable": true,
    "editable": true
   },
   "source": [
    "### Train on a Single CIFAR-10 Batch\n",
    "Instead of training the neural network on all the CIFAR-10 batches of data, let's use a single batch. This should save time while you iterate on the model to get a better accuracy.  Once the final validation accuracy is 50% or greater, run the model on all the data in the next section."
   ]
  },
  {
   "cell_type": "code",
   "execution_count": 18,
   "metadata": {
    "collapsed": false,
    "deletable": true,
    "editable": true
   },
   "outputs": [
    {
     "name": "stdout",
     "output_type": "stream",
     "text": [
      "Checking the Training on a Single Batch...\n",
      "Epoch  1, CIFAR-10 Batch 1:  Loss:  2.26588  Accuracy:  0.1098\n",
      "Epoch  2, CIFAR-10 Batch 1:  Loss:  2.17928  Accuracy:  0.1772\n",
      "Epoch  3, CIFAR-10 Batch 1:  Loss:  2.09214  Accuracy:  0.1826\n",
      "Epoch  4, CIFAR-10 Batch 1:  Loss:  2.04335  Accuracy:  0.2068\n",
      "Epoch  5, CIFAR-10 Batch 1:  Loss:  2.00841  Accuracy:  0.2294\n",
      "Epoch  6, CIFAR-10 Batch 1:  Loss:  2.00771  Accuracy:  0.2108\n",
      "Epoch  7, CIFAR-10 Batch 1:  Loss:  1.88804  Accuracy:  0.2582\n",
      "Epoch  8, CIFAR-10 Batch 1:  Loss:  1.85844  Accuracy:  0.2856\n",
      "Epoch  9, CIFAR-10 Batch 1:  Loss:  1.81749  Accuracy:  0.3042\n",
      "Epoch 10, CIFAR-10 Batch 1:  Loss:  1.78037  Accuracy:  0.316\n",
      "Epoch 11, CIFAR-10 Batch 1:  Loss:  1.76503  Accuracy:  0.3252\n",
      "Epoch 12, CIFAR-10 Batch 1:  Loss:  1.71112  Accuracy:  0.347\n",
      "Epoch 13, CIFAR-10 Batch 1:  Loss:  1.68683  Accuracy:  0.3504\n",
      "Epoch 14, CIFAR-10 Batch 1:  Loss:  1.66076  Accuracy:  0.3602\n",
      "Epoch 15, CIFAR-10 Batch 1:  Loss:  1.61459  Accuracy:  0.3718\n",
      "Epoch 16, CIFAR-10 Batch 1:  Loss:  1.57799  Accuracy:  0.3858\n",
      "Epoch 17, CIFAR-10 Batch 1:  Loss:  1.54942  Accuracy:  0.3902\n",
      "Epoch 18, CIFAR-10 Batch 1:  Loss:  1.51744  Accuracy:  0.3964\n",
      "Epoch 19, CIFAR-10 Batch 1:  Loss:  1.51487  Accuracy:  0.3966\n",
      "Epoch 20, CIFAR-10 Batch 1:  Loss:  1.46135  Accuracy:  0.412\n",
      "Epoch 21, CIFAR-10 Batch 1:  Loss:  1.42424  Accuracy:  0.4222\n",
      "Epoch 22, CIFAR-10 Batch 1:  Loss:  1.4175  Accuracy:  0.416\n",
      "Epoch 23, CIFAR-10 Batch 1:  Loss:  1.39708  Accuracy:  0.419\n",
      "Epoch 24, CIFAR-10 Batch 1:  Loss:  1.33864  Accuracy:  0.4362\n",
      "Epoch 25, CIFAR-10 Batch 1:  Loss:  1.30886  Accuracy:  0.4482\n",
      "Epoch 26, CIFAR-10 Batch 1:  Loss:  1.27084  Accuracy:  0.4564\n",
      "Epoch 27, CIFAR-10 Batch 1:  Loss:  1.24881  Accuracy:  0.4606\n",
      "Epoch 28, CIFAR-10 Batch 1:  Loss:  1.24905  Accuracy:  0.4518\n",
      "Epoch 29, CIFAR-10 Batch 1:  Loss:  1.18607  Accuracy:  0.4682\n",
      "Epoch 30, CIFAR-10 Batch 1:  Loss:  1.14942  Accuracy:  0.4808\n",
      "Epoch 31, CIFAR-10 Batch 1:  Loss:  1.17782  Accuracy:  0.4748\n",
      "Epoch 32, CIFAR-10 Batch 1:  Loss:  1.08809  Accuracy:  0.4912\n",
      "Epoch 33, CIFAR-10 Batch 1:  Loss:  1.06095  Accuracy:  0.493\n",
      "Epoch 34, CIFAR-10 Batch 1:  Loss:  0.98955  Accuracy:  0.5038\n",
      "Epoch 35, CIFAR-10 Batch 1:  Loss:  0.937465  Accuracy:  0.509\n",
      "Epoch 36, CIFAR-10 Batch 1:  Loss:  0.925101  Accuracy:  0.5046\n",
      "Epoch 37, CIFAR-10 Batch 1:  Loss:  0.861932  Accuracy:  0.5182\n",
      "Epoch 38, CIFAR-10 Batch 1:  Loss:  0.806344  Accuracy:  0.5164\n",
      "Epoch 39, CIFAR-10 Batch 1:  Loss:  0.802378  Accuracy:  0.5108\n",
      "Epoch 40, CIFAR-10 Batch 1:  Loss:  0.75786  Accuracy:  0.5112\n",
      "Epoch 41, CIFAR-10 Batch 1:  Loss:  0.722977  Accuracy:  0.5196\n",
      "Epoch 42, CIFAR-10 Batch 1:  Loss:  0.695589  Accuracy:  0.5212\n",
      "Epoch 43, CIFAR-10 Batch 1:  Loss:  0.670896  Accuracy:  0.5336\n",
      "Epoch 44, CIFAR-10 Batch 1:  Loss:  0.781412  Accuracy:  0.502\n",
      "Epoch 45, CIFAR-10 Batch 1:  Loss:  0.666138  Accuracy:  0.5226\n"
     ]
    }
   ],
   "source": [
    "\"\"\"\n",
    "DON'T MODIFY ANYTHING IN THIS CELL\n",
    "\"\"\"\n",
    "print('Checking the Training on a Single Batch...')\n",
    "with tf.Session() as sess:\n",
    "    # Initializing the variables\n",
    "    sess.run(tf.global_variables_initializer())\n",
    "    \n",
    "    # Training cycle\n",
    "    for epoch in range(epochs):\n",
    "        batch_i = 1\n",
    "        for batch_features, batch_labels in helper.load_preprocess_training_batch(batch_i, batch_size):\n",
    "            train_neural_network(sess, optimizer, keep_probability, batch_features, batch_labels)\n",
    "        print('Epoch {:>2}, CIFAR-10 Batch {}:  '.format(epoch + 1, batch_i), end='')\n",
    "        print_stats(sess, batch_features, batch_labels, cost, accuracy)"
   ]
  },
  {
   "cell_type": "markdown",
   "metadata": {
    "deletable": true,
    "editable": true
   },
   "source": [
    "### Fully Train the Model\n",
    "Now that you got a good accuracy with a single CIFAR-10 batch, try it with all five batches."
   ]
  },
  {
   "cell_type": "code",
   "execution_count": 19,
   "metadata": {
    "collapsed": false,
    "deletable": true,
    "editable": true
   },
   "outputs": [
    {
     "name": "stdout",
     "output_type": "stream",
     "text": [
      "Training...\n",
      "Epoch  1, CIFAR-10 Batch 1:  Loss:  2.27897  Accuracy:  0.1202\n",
      "Epoch  1, CIFAR-10 Batch 2:  Loss:  2.20465  Accuracy:  0.1616\n",
      "Epoch  1, CIFAR-10 Batch 3:  Loss:  2.00827  Accuracy:  0.2088\n",
      "Epoch  1, CIFAR-10 Batch 4:  Loss:  1.93356  Accuracy:  0.2092\n",
      "Epoch  1, CIFAR-10 Batch 5:  Loss:  2.04645  Accuracy:  0.1936\n",
      "Epoch  2, CIFAR-10 Batch 1:  Loss:  1.99278  Accuracy:  0.2324\n",
      "Epoch  2, CIFAR-10 Batch 2:  Loss:  1.87712  Accuracy:  0.242\n",
      "Epoch  2, CIFAR-10 Batch 3:  Loss:  1.75323  Accuracy:  0.265\n",
      "Epoch  2, CIFAR-10 Batch 4:  Loss:  1.75949  Accuracy:  0.2686\n",
      "Epoch  2, CIFAR-10 Batch 5:  Loss:  1.78673  Accuracy:  0.3018\n",
      "Epoch  3, CIFAR-10 Batch 1:  Loss:  1.83543  Accuracy:  0.3104\n",
      "Epoch  3, CIFAR-10 Batch 2:  Loss:  1.72115  Accuracy:  0.3336\n",
      "Epoch  3, CIFAR-10 Batch 3:  Loss:  1.56304  Accuracy:  0.3466\n",
      "Epoch  3, CIFAR-10 Batch 4:  Loss:  1.57461  Accuracy:  0.366\n",
      "Epoch  3, CIFAR-10 Batch 5:  Loss:  1.62334  Accuracy:  0.347\n",
      "Epoch  4, CIFAR-10 Batch 1:  Loss:  1.65952  Accuracy:  0.3698\n",
      "Epoch  4, CIFAR-10 Batch 2:  Loss:  1.58646  Accuracy:  0.395\n",
      "Epoch  4, CIFAR-10 Batch 3:  Loss:  1.40639  Accuracy:  0.3978\n",
      "Epoch  4, CIFAR-10 Batch 4:  Loss:  1.45545  Accuracy:  0.4082\n",
      "Epoch  4, CIFAR-10 Batch 5:  Loss:  1.47809  Accuracy:  0.418\n",
      "Epoch  5, CIFAR-10 Batch 1:  Loss:  1.54658  Accuracy:  0.4244\n",
      "Epoch  5, CIFAR-10 Batch 2:  Loss:  1.48789  Accuracy:  0.4336\n",
      "Epoch  5, CIFAR-10 Batch 3:  Loss:  1.27669  Accuracy:  0.4494\n",
      "Epoch  5, CIFAR-10 Batch 4:  Loss:  1.34941  Accuracy:  0.4516\n",
      "Epoch  5, CIFAR-10 Batch 5:  Loss:  1.36795  Accuracy:  0.4582\n",
      "Epoch  6, CIFAR-10 Batch 1:  Loss:  1.43419  Accuracy:  0.461\n",
      "Epoch  6, CIFAR-10 Batch 2:  Loss:  1.34928  Accuracy:  0.4628\n",
      "Epoch  6, CIFAR-10 Batch 3:  Loss:  1.19138  Accuracy:  0.4834\n",
      "Epoch  6, CIFAR-10 Batch 4:  Loss:  1.257  Accuracy:  0.4896\n",
      "Epoch  6, CIFAR-10 Batch 5:  Loss:  1.25248  Accuracy:  0.492\n",
      "Epoch  7, CIFAR-10 Batch 1:  Loss:  1.34763  Accuracy:  0.501\n",
      "Epoch  7, CIFAR-10 Batch 2:  Loss:  1.25035  Accuracy:  0.4966\n",
      "Epoch  7, CIFAR-10 Batch 3:  Loss:  1.12523  Accuracy:  0.508\n",
      "Epoch  7, CIFAR-10 Batch 4:  Loss:  1.15458  Accuracy:  0.5192\n",
      "Epoch  7, CIFAR-10 Batch 5:  Loss:  1.18188  Accuracy:  0.5218\n",
      "Epoch  8, CIFAR-10 Batch 1:  Loss:  1.28723  Accuracy:  0.5362\n",
      "Epoch  8, CIFAR-10 Batch 2:  Loss:  1.195  Accuracy:  0.528\n",
      "Epoch  8, CIFAR-10 Batch 3:  Loss:  1.05875  Accuracy:  0.5356\n",
      "Epoch  8, CIFAR-10 Batch 4:  Loss:  1.07794  Accuracy:  0.5474\n",
      "Epoch  8, CIFAR-10 Batch 5:  Loss:  1.09889  Accuracy:  0.5502\n",
      "Epoch  9, CIFAR-10 Batch 1:  Loss:  1.22517  Accuracy:  0.5414\n",
      "Epoch  9, CIFAR-10 Batch 2:  Loss:  1.0984  Accuracy:  0.565\n",
      "Epoch  9, CIFAR-10 Batch 3:  Loss:  1.00303  Accuracy:  0.5608\n",
      "Epoch  9, CIFAR-10 Batch 4:  Loss:  0.998588  Accuracy:  0.5696\n",
      "Epoch  9, CIFAR-10 Batch 5:  Loss:  1.05385  Accuracy:  0.5722\n",
      "Epoch 10, CIFAR-10 Batch 1:  Loss:  1.15493  Accuracy:  0.5704\n",
      "Epoch 10, CIFAR-10 Batch 2:  Loss:  1.05073  Accuracy:  0.5798\n",
      "Epoch 10, CIFAR-10 Batch 3:  Loss:  0.947769  Accuracy:  0.5772\n",
      "Epoch 10, CIFAR-10 Batch 4:  Loss:  0.972491  Accuracy:  0.5698\n",
      "Epoch 10, CIFAR-10 Batch 5:  Loss:  0.99837  Accuracy:  0.584\n",
      "Epoch 11, CIFAR-10 Batch 1:  Loss:  1.08274  Accuracy:  0.5814\n",
      "Epoch 11, CIFAR-10 Batch 2:  Loss:  0.9965  Accuracy:  0.5964\n",
      "Epoch 11, CIFAR-10 Batch 3:  Loss:  0.91516  Accuracy:  0.5838\n",
      "Epoch 11, CIFAR-10 Batch 4:  Loss:  0.906177  Accuracy:  0.5882\n",
      "Epoch 11, CIFAR-10 Batch 5:  Loss:  0.940068  Accuracy:  0.5988\n",
      "Epoch 12, CIFAR-10 Batch 1:  Loss:  1.0268  Accuracy:  0.5932\n",
      "Epoch 12, CIFAR-10 Batch 2:  Loss:  0.964949  Accuracy:  0.6062\n",
      "Epoch 12, CIFAR-10 Batch 3:  Loss:  0.859593  Accuracy:  0.6034\n",
      "Epoch 12, CIFAR-10 Batch 4:  Loss:  0.846076  Accuracy:  0.5954\n",
      "Epoch 12, CIFAR-10 Batch 5:  Loss:  0.898315  Accuracy:  0.6132\n",
      "Epoch 13, CIFAR-10 Batch 1:  Loss:  0.99113  Accuracy:  0.5948\n",
      "Epoch 13, CIFAR-10 Batch 2:  Loss:  0.883886  Accuracy:  0.6094\n",
      "Epoch 13, CIFAR-10 Batch 3:  Loss:  0.822274  Accuracy:  0.6148\n",
      "Epoch 13, CIFAR-10 Batch 4:  Loss:  0.835149  Accuracy:  0.584\n",
      "Epoch 13, CIFAR-10 Batch 5:  Loss:  0.885227  Accuracy:  0.6124\n",
      "Epoch 14, CIFAR-10 Batch 1:  Loss:  0.938448  Accuracy:  0.6074\n",
      "Epoch 14, CIFAR-10 Batch 2:  Loss:  0.846105  Accuracy:  0.6234\n",
      "Epoch 14, CIFAR-10 Batch 3:  Loss:  0.777658  Accuracy:  0.6158\n",
      "Epoch 14, CIFAR-10 Batch 4:  Loss:  0.77349  Accuracy:  0.6118\n",
      "Epoch 14, CIFAR-10 Batch 5:  Loss:  0.814548  Accuracy:  0.6204\n",
      "Epoch 15, CIFAR-10 Batch 1:  Loss:  0.887493  Accuracy:  0.613\n",
      "Epoch 15, CIFAR-10 Batch 2:  Loss:  0.805415  Accuracy:  0.6308\n",
      "Epoch 15, CIFAR-10 Batch 3:  Loss:  0.748106  Accuracy:  0.6362\n",
      "Epoch 15, CIFAR-10 Batch 4:  Loss:  0.707974  Accuracy:  0.6308\n",
      "Epoch 15, CIFAR-10 Batch 5:  Loss:  0.741446  Accuracy:  0.6388\n",
      "Epoch 16, CIFAR-10 Batch 1:  Loss:  0.84251  Accuracy:  0.6232\n",
      "Epoch 16, CIFAR-10 Batch 2:  Loss:  0.749542  Accuracy:  0.6472\n",
      "Epoch 16, CIFAR-10 Batch 3:  Loss:  0.705341  Accuracy:  0.631\n",
      "Epoch 16, CIFAR-10 Batch 4:  Loss:  0.674691  Accuracy:  0.6404\n",
      "Epoch 16, CIFAR-10 Batch 5:  Loss:  0.713394  Accuracy:  0.6374\n",
      "Epoch 17, CIFAR-10 Batch 1:  Loss:  0.822518  Accuracy:  0.6314\n",
      "Epoch 17, CIFAR-10 Batch 2:  Loss:  0.772525  Accuracy:  0.6214\n",
      "Epoch 17, CIFAR-10 Batch 3:  Loss:  0.653031  Accuracy:  0.6464\n",
      "Epoch 17, CIFAR-10 Batch 4:  Loss:  0.683954  Accuracy:  0.628\n",
      "Epoch 17, CIFAR-10 Batch 5:  Loss:  0.68622  Accuracy:  0.6388\n",
      "Epoch 18, CIFAR-10 Batch 1:  Loss:  0.762437  Accuracy:  0.6342\n",
      "Epoch 18, CIFAR-10 Batch 2:  Loss:  0.722491  Accuracy:  0.6376\n",
      "Epoch 18, CIFAR-10 Batch 3:  Loss:  0.604239  Accuracy:  0.6532\n",
      "Epoch 18, CIFAR-10 Batch 4:  Loss:  0.622015  Accuracy:  0.6404\n",
      "Epoch 18, CIFAR-10 Batch 5:  Loss:  0.678668  Accuracy:  0.6278\n",
      "Epoch 19, CIFAR-10 Batch 1:  Loss:  0.728137  Accuracy:  0.6458\n",
      "Epoch 19, CIFAR-10 Batch 2:  Loss:  0.674202  Accuracy:  0.6496\n",
      "Epoch 19, CIFAR-10 Batch 3:  Loss:  0.59672  Accuracy:  0.6526\n",
      "Epoch 19, CIFAR-10 Batch 4:  Loss:  0.61274  Accuracy:  0.6432\n",
      "Epoch 19, CIFAR-10 Batch 5:  Loss:  0.614431  Accuracy:  0.6452\n",
      "Epoch 20, CIFAR-10 Batch 1:  Loss:  0.701041  Accuracy:  0.6538\n",
      "Epoch 20, CIFAR-10 Batch 2:  Loss:  0.62862  Accuracy:  0.646\n",
      "Epoch 20, CIFAR-10 Batch 3:  Loss:  0.631363  Accuracy:  0.6382\n",
      "Epoch 20, CIFAR-10 Batch 4:  Loss:  0.518628  Accuracy:  0.661\n",
      "Epoch 20, CIFAR-10 Batch 5:  Loss:  0.583806  Accuracy:  0.6588\n",
      "Epoch 21, CIFAR-10 Batch 1:  Loss:  0.639547  Accuracy:  0.6658\n",
      "Epoch 21, CIFAR-10 Batch 2:  Loss:  0.601453  Accuracy:  0.6572\n",
      "Epoch 21, CIFAR-10 Batch 3:  Loss:  0.572902  Accuracy:  0.6574\n",
      "Epoch 21, CIFAR-10 Batch 4:  Loss:  0.485389  Accuracy:  0.6752\n",
      "Epoch 21, CIFAR-10 Batch 5:  Loss:  0.567251  Accuracy:  0.6532\n",
      "Epoch 22, CIFAR-10 Batch 1:  Loss:  0.618578  Accuracy:  0.6714\n",
      "Epoch 22, CIFAR-10 Batch 2:  Loss:  0.579143  Accuracy:  0.658\n",
      "Epoch 22, CIFAR-10 Batch 3:  Loss:  0.548082  Accuracy:  0.6576\n",
      "Epoch 22, CIFAR-10 Batch 4:  Loss:  0.467487  Accuracy:  0.67\n",
      "Epoch 22, CIFAR-10 Batch 5:  Loss:  0.535198  Accuracy:  0.6606\n",
      "Epoch 23, CIFAR-10 Batch 1:  Loss:  0.614217  Accuracy:  0.6654\n",
      "Epoch 23, CIFAR-10 Batch 2:  Loss:  0.589615  Accuracy:  0.6452\n",
      "Epoch 23, CIFAR-10 Batch 3:  Loss:  0.554617  Accuracy:  0.6456\n",
      "Epoch 23, CIFAR-10 Batch 4:  Loss:  0.481515  Accuracy:  0.6716\n",
      "Epoch 23, CIFAR-10 Batch 5:  Loss:  0.496357  Accuracy:  0.6704\n",
      "Epoch 24, CIFAR-10 Batch 1:  Loss:  0.588886  Accuracy:  0.6714\n",
      "Epoch 24, CIFAR-10 Batch 2:  Loss:  0.587358  Accuracy:  0.6554\n",
      "Epoch 24, CIFAR-10 Batch 3:  Loss:  0.514698  Accuracy:  0.6632\n",
      "Epoch 24, CIFAR-10 Batch 4:  Loss:  0.438962  Accuracy:  0.679\n",
      "Epoch 24, CIFAR-10 Batch 5:  Loss:  0.475335  Accuracy:  0.669\n",
      "Epoch 25, CIFAR-10 Batch 1:  Loss:  0.578825  Accuracy:  0.6632\n",
      "Epoch 25, CIFAR-10 Batch 2:  Loss:  0.511262  Accuracy:  0.6638\n",
      "Epoch 25, CIFAR-10 Batch 3:  Loss:  0.489384  Accuracy:  0.6708\n",
      "Epoch 25, CIFAR-10 Batch 4:  Loss:  0.448585  Accuracy:  0.6682\n",
      "Epoch 25, CIFAR-10 Batch 5:  Loss:  0.439449  Accuracy:  0.6712\n",
      "Epoch 26, CIFAR-10 Batch 1:  Loss:  0.553791  Accuracy:  0.6642\n",
      "Epoch 26, CIFAR-10 Batch 2:  Loss:  0.524393  Accuracy:  0.6602\n",
      "Epoch 26, CIFAR-10 Batch 3:  Loss:  0.452827  Accuracy:  0.6654\n",
      "Epoch 26, CIFAR-10 Batch 4:  Loss:  0.448462  Accuracy:  0.6644\n",
      "Epoch 26, CIFAR-10 Batch 5:  Loss:  0.425655  Accuracy:  0.6746\n",
      "Epoch 27, CIFAR-10 Batch 1:  Loss:  0.549782  Accuracy:  0.6654\n",
      "Epoch 27, CIFAR-10 Batch 2:  Loss:  0.52159  Accuracy:  0.6394\n",
      "Epoch 27, CIFAR-10 Batch 3:  Loss:  0.510543  Accuracy:  0.6656\n",
      "Epoch 27, CIFAR-10 Batch 4:  Loss:  0.399889  Accuracy:  0.6754\n",
      "Epoch 27, CIFAR-10 Batch 5:  Loss:  0.42677  Accuracy:  0.6748\n",
      "Epoch 28, CIFAR-10 Batch 1:  Loss:  0.594226  Accuracy:  0.6462\n",
      "Epoch 28, CIFAR-10 Batch 2:  Loss:  0.573406  Accuracy:  0.6166\n",
      "Epoch 28, CIFAR-10 Batch 3:  Loss:  0.483191  Accuracy:  0.6564\n",
      "Epoch 28, CIFAR-10 Batch 4:  Loss:  0.417435  Accuracy:  0.6602\n",
      "Epoch 28, CIFAR-10 Batch 5:  Loss:  0.426232  Accuracy:  0.6756\n",
      "Epoch 29, CIFAR-10 Batch 1:  Loss:  0.49789  Accuracy:  0.6732\n",
      "Epoch 29, CIFAR-10 Batch 2:  Loss:  0.513584  Accuracy:  0.6278\n",
      "Epoch 29, CIFAR-10 Batch 3:  Loss:  0.464495  Accuracy:  0.6646\n",
      "Epoch 29, CIFAR-10 Batch 4:  Loss:  0.414746  Accuracy:  0.662\n",
      "Epoch 29, CIFAR-10 Batch 5:  Loss:  0.452133  Accuracy:  0.6576\n",
      "Epoch 30, CIFAR-10 Batch 1:  Loss:  0.511168  Accuracy:  0.6652\n",
      "Epoch 30, CIFAR-10 Batch 2:  Loss:  0.507942  Accuracy:  0.6336\n",
      "Epoch 30, CIFAR-10 Batch 3:  Loss:  0.492205  Accuracy:  0.657\n",
      "Epoch 30, CIFAR-10 Batch 4:  Loss:  0.436637  Accuracy:  0.6554\n",
      "Epoch 30, CIFAR-10 Batch 5:  Loss:  0.483588  Accuracy:  0.6474\n",
      "Epoch 31, CIFAR-10 Batch 1:  Loss:  0.475302  Accuracy:  0.6788\n",
      "Epoch 31, CIFAR-10 Batch 2:  Loss:  0.430926  Accuracy:  0.6624\n",
      "Epoch 31, CIFAR-10 Batch 3:  Loss:  0.407808  Accuracy:  0.683\n",
      "Epoch 31, CIFAR-10 Batch 4:  Loss:  0.395545  Accuracy:  0.6614\n",
      "Epoch 31, CIFAR-10 Batch 5:  Loss:  0.447221  Accuracy:  0.6562\n",
      "Epoch 32, CIFAR-10 Batch 1:  Loss:  0.446265  Accuracy:  0.6792\n",
      "Epoch 32, CIFAR-10 Batch 2:  Loss:  0.424669  Accuracy:  0.6756\n",
      "Epoch 32, CIFAR-10 Batch 3:  Loss:  0.423014  Accuracy:  0.6794\n",
      "Epoch 32, CIFAR-10 Batch 4:  Loss:  0.395531  Accuracy:  0.66\n",
      "Epoch 32, CIFAR-10 Batch 5:  Loss:  0.404767  Accuracy:  0.6614\n",
      "Epoch 33, CIFAR-10 Batch 1:  Loss:  0.405064  Accuracy:  0.686\n",
      "Epoch 33, CIFAR-10 Batch 2:  Loss:  0.424733  Accuracy:  0.6658\n",
      "Epoch 33, CIFAR-10 Batch 3:  Loss:  0.4047  Accuracy:  0.677\n",
      "Epoch 33, CIFAR-10 Batch 4:  Loss:  0.346011  Accuracy:  0.6722\n",
      "Epoch 33, CIFAR-10 Batch 5:  Loss:  0.377468  Accuracy:  0.6664\n",
      "Epoch 34, CIFAR-10 Batch 1:  Loss:  0.391935  Accuracy:  0.6984\n",
      "Epoch 34, CIFAR-10 Batch 2:  Loss:  0.365697  Accuracy:  0.6778\n",
      "Epoch 34, CIFAR-10 Batch 3:  Loss:  0.344477  Accuracy:  0.6862\n",
      "Epoch 34, CIFAR-10 Batch 4:  Loss:  0.354137  Accuracy:  0.6646\n",
      "Epoch 34, CIFAR-10 Batch 5:  Loss:  0.382164  Accuracy:  0.6604\n",
      "Epoch 35, CIFAR-10 Batch 1:  Loss:  0.365713  Accuracy:  0.6904\n",
      "Epoch 35, CIFAR-10 Batch 2:  Loss:  0.356119  Accuracy:  0.6726\n",
      "Epoch 35, CIFAR-10 Batch 3:  Loss:  0.351461  Accuracy:  0.6742\n",
      "Epoch 35, CIFAR-10 Batch 4:  Loss:  0.318176  Accuracy:  0.674\n",
      "Epoch 35, CIFAR-10 Batch 5:  Loss:  0.326084  Accuracy:  0.6724\n",
      "Epoch 36, CIFAR-10 Batch 1:  Loss:  0.363495  Accuracy:  0.6898\n",
      "Epoch 36, CIFAR-10 Batch 2:  Loss:  0.323347  Accuracy:  0.6694\n",
      "Epoch 36, CIFAR-10 Batch 3:  Loss:  0.355626  Accuracy:  0.674\n",
      "Epoch 36, CIFAR-10 Batch 4:  Loss:  0.305527  Accuracy:  0.6742\n",
      "Epoch 36, CIFAR-10 Batch 5:  Loss:  0.331616  Accuracy:  0.6804\n",
      "Epoch 37, CIFAR-10 Batch 1:  Loss:  0.340026  Accuracy:  0.6836\n",
      "Epoch 37, CIFAR-10 Batch 2:  Loss:  0.325727  Accuracy:  0.6576\n",
      "Epoch 37, CIFAR-10 Batch 3:  Loss:  0.304696  Accuracy:  0.6796\n",
      "Epoch 37, CIFAR-10 Batch 4:  Loss:  0.288801  Accuracy:  0.6724\n",
      "Epoch 37, CIFAR-10 Batch 5:  Loss:  0.319843  Accuracy:  0.6702\n",
      "Epoch 38, CIFAR-10 Batch 1:  Loss:  0.352866  Accuracy:  0.6794\n",
      "Epoch 38, CIFAR-10 Batch 2:  Loss:  0.329403  Accuracy:  0.6616\n",
      "Epoch 38, CIFAR-10 Batch 3:  Loss:  0.306554  Accuracy:  0.6808\n",
      "Epoch 38, CIFAR-10 Batch 4:  Loss:  0.27126  Accuracy:  0.6776\n",
      "Epoch 38, CIFAR-10 Batch 5:  Loss:  0.309226  Accuracy:  0.6714\n",
      "Epoch 39, CIFAR-10 Batch 1:  Loss:  0.343571  Accuracy:  0.683\n",
      "Epoch 39, CIFAR-10 Batch 2:  Loss:  0.345712  Accuracy:  0.6488\n",
      "Epoch 39, CIFAR-10 Batch 3:  Loss:  0.296221  Accuracy:  0.6742\n",
      "Epoch 39, CIFAR-10 Batch 4:  Loss:  0.261461  Accuracy:  0.6668\n",
      "Epoch 39, CIFAR-10 Batch 5:  Loss:  0.284179  Accuracy:  0.6762\n",
      "Epoch 40, CIFAR-10 Batch 1:  Loss:  0.352077  Accuracy:  0.678\n",
      "Epoch 40, CIFAR-10 Batch 2:  Loss:  0.318822  Accuracy:  0.6664\n",
      "Epoch 40, CIFAR-10 Batch 3:  Loss:  0.320464  Accuracy:  0.673\n",
      "Epoch 40, CIFAR-10 Batch 4:  Loss:  0.26228  Accuracy:  0.6708\n",
      "Epoch 40, CIFAR-10 Batch 5:  Loss:  0.273125  Accuracy:  0.668\n",
      "Epoch 41, CIFAR-10 Batch 1:  Loss:  0.349223  Accuracy:  0.6692\n",
      "Epoch 41, CIFAR-10 Batch 2:  Loss:  0.281054  Accuracy:  0.6668\n",
      "Epoch 41, CIFAR-10 Batch 3:  Loss:  0.309947  Accuracy:  0.6648\n",
      "Epoch 41, CIFAR-10 Batch 4:  Loss:  0.231567  Accuracy:  0.6814\n",
      "Epoch 41, CIFAR-10 Batch 5:  Loss:  0.272605  Accuracy:  0.673\n",
      "Epoch 42, CIFAR-10 Batch 1:  Loss:  0.340031  Accuracy:  0.6696\n",
      "Epoch 42, CIFAR-10 Batch 2:  Loss:  0.323114  Accuracy:  0.6796\n",
      "Epoch 42, CIFAR-10 Batch 3:  Loss:  0.294244  Accuracy:  0.6766\n",
      "Epoch 42, CIFAR-10 Batch 4:  Loss:  0.246036  Accuracy:  0.6864\n",
      "Epoch 42, CIFAR-10 Batch 5:  Loss:  0.250798  Accuracy:  0.6778\n",
      "Epoch 43, CIFAR-10 Batch 1:  Loss:  0.299873  Accuracy:  0.677\n",
      "Epoch 43, CIFAR-10 Batch 2:  Loss:  0.291018  Accuracy:  0.671\n",
      "Epoch 43, CIFAR-10 Batch 3:  Loss:  0.280879  Accuracy:  0.68\n",
      "Epoch 43, CIFAR-10 Batch 4:  Loss:  0.270904  Accuracy:  0.6684\n",
      "Epoch 43, CIFAR-10 Batch 5:  Loss:  0.282615  Accuracy:  0.6646\n",
      "Epoch 44, CIFAR-10 Batch 1:  Loss:  0.307713  Accuracy:  0.6724\n",
      "Epoch 44, CIFAR-10 Batch 2:  Loss:  0.279249  Accuracy:  0.6828\n",
      "Epoch 44, CIFAR-10 Batch 3:  Loss:  0.279896  Accuracy:  0.6722\n",
      "Epoch 44, CIFAR-10 Batch 4:  Loss:  0.229602  Accuracy:  0.675\n",
      "Epoch 44, CIFAR-10 Batch 5:  Loss:  0.292814  Accuracy:  0.6424\n",
      "Epoch 45, CIFAR-10 Batch 1:  Loss:  0.291631  Accuracy:  0.683\n",
      "Epoch 45, CIFAR-10 Batch 2:  Loss:  0.272084  Accuracy:  0.6762\n",
      "Epoch 45, CIFAR-10 Batch 3:  Loss:  0.285201  Accuracy:  0.67\n",
      "Epoch 45, CIFAR-10 Batch 4:  Loss:  0.233344  Accuracy:  0.674\n",
      "Epoch 45, CIFAR-10 Batch 5:  Loss:  0.261022  Accuracy:  0.6532\n"
     ]
    }
   ],
   "source": [
    "\"\"\"\n",
    "DON'T MODIFY ANYTHING IN THIS CELL\n",
    "\"\"\"\n",
    "save_model_path = './image_classification'\n",
    "\n",
    "print('Training...')\n",
    "with tf.Session() as sess:\n",
    "    # Initializing the variables\n",
    "    sess.run(tf.global_variables_initializer())\n",
    "    \n",
    "    # Training cycle\n",
    "    for epoch in range(epochs):\n",
    "        # Loop over all batches\n",
    "        n_batches = 5\n",
    "        for batch_i in range(1, n_batches + 1):\n",
    "            for batch_features, batch_labels in helper.load_preprocess_training_batch(batch_i, batch_size):\n",
    "                train_neural_network(sess, optimizer, keep_probability, batch_features, batch_labels)\n",
    "            print('Epoch {:>2}, CIFAR-10 Batch {}:  '.format(epoch + 1, batch_i), end='')\n",
    "            print_stats(sess, batch_features, batch_labels, cost, accuracy)\n",
    "            \n",
    "    # Save Model\n",
    "    saver = tf.train.Saver()\n",
    "    save_path = saver.save(sess, save_model_path)"
   ]
  },
  {
   "cell_type": "markdown",
   "metadata": {
    "deletable": true,
    "editable": true
   },
   "source": [
    "# Checkpoint\n",
    "The model has been saved to disk.\n",
    "## Test Model\n",
    "Test your model against the test dataset.  This will be your final accuracy. You should have an accuracy greater than 50%. If you don't, keep tweaking the model architecture and parameters."
   ]
  },
  {
   "cell_type": "code",
   "execution_count": 20,
   "metadata": {
    "collapsed": false,
    "deletable": true,
    "editable": true
   },
   "outputs": [
    {
     "name": "stdout",
     "output_type": "stream",
     "text": [
      "Testing Accuracy: 0.6464039534330368\n",
      "\n"
     ]
    },
    {
     "data": {
      "image/png": "[encoded data removed]",
      "text/plain": [
       "<matplotlib.figure.Figure at 0x7f6eabf684e0>"
      ]
     },
     "metadata": {
      "image/png": {
       "height": 319,
       "width": 355
      }
     },
     "output_type": "display_data"
    }
   ],
   "source": [
    "\"\"\"\n",
    "DON'T MODIFY ANYTHING IN THIS CELL\n",
    "\"\"\"\n",
    "%matplotlib inline\n",
    "%config InlineBackend.figure_format = 'retina'\n",
    "\n",
    "import tensorflow as tf\n",
    "import pickle\n",
    "import helper\n",
    "import random\n",
    "\n",
    "# Set batch size if not already set\n",
    "try:\n",
    "    if batch_size:\n",
    "        pass\n",
    "except NameError:\n",
    "    batch_size = 64\n",
    "\n",
    "save_model_path = './image_classification'\n",
    "n_samples = 4\n",
    "top_n_predictions = 3\n",
    "\n",
    "def test_model():\n",
    "    \"\"\"\n",
    "    Test the saved model against the test dataset\n",
    "    \"\"\"\n",
    "\n",
    "    test_features, test_labels = pickle.load(open('preprocess_test.p', mode='rb'))\n",
    "    loaded_graph = tf.Graph()\n",
    "\n",
    "    with tf.Session(graph=loaded_graph) as sess:\n",
    "        # Load model\n",
    "        loader = tf.train.import_meta_graph(save_model_path + '.meta')\n",
    "        loader.restore(sess, save_model_path)\n",
    "\n",
    "        # Get Tensors from loaded model\n",
    "        loaded_x = loaded_graph.get_tensor_by_name('x:0')\n",
    "        loaded_y = loaded_graph.get_tensor_by_name('y:0')\n",
    "        loaded_keep_prob = loaded_graph.get_tensor_by_name('keep_prob:0')\n",
    "        loaded_logits = loaded_graph.get_tensor_by_name('logits:0')\n",
    "        loaded_acc = loaded_graph.get_tensor_by_name('accuracy:0')\n",
    "        \n",
    "        # Get accuracy in batches for memory limitations\n",
    "        test_batch_acc_total = 0\n",
    "        test_batch_count = 0\n",
    "        \n",
    "        for test_feature_batch, test_label_batch in helper.batch_features_labels(test_features, test_labels, batch_size):\n",
    "            test_batch_acc_total += sess.run(\n",
    "                loaded_acc,\n",
    "                feed_dict={loaded_x: test_feature_batch, loaded_y: test_label_batch, loaded_keep_prob: 1.0})\n",
    "            test_batch_count += 1\n",
    "\n",
    "        print('Testing Accuracy: {}\\n'.format(test_batch_acc_total/test_batch_count))\n",
    "\n",
    "        # Print Random Samples\n",
    "        random_test_features, random_test_labels = tuple(zip(*random.sample(list(zip(test_features, test_labels)), n_samples)))\n",
    "        random_test_predictions = sess.run(\n",
    "            tf.nn.top_k(tf.nn.softmax(loaded_logits), top_n_predictions),\n",
    "            feed_dict={loaded_x: random_test_features, loaded_y: random_test_labels, loaded_keep_prob: 1.0})\n",
    "        helper.display_image_predictions(random_test_features, random_test_labels, random_test_predictions)\n",
    "\n",
    "\n",
    "test_model()"
   ]
  },
  {
   "cell_type": "markdown",
   "metadata": {
    "deletable": true,
    "editable": true
   },
   "source": [
    "## Why 50-80% Accuracy?\n",
    "You might be wondering why you can't get an accuracy any higher. First things first, 50% isn't bad for a simple CNN.  Pure guessing would get you 10% accuracy. However, you might notice people are getting scores [well above 80%](http://rodrigob.github.io/are_we_there_yet/build/classification_datasets_results.html#43494641522d3130).  That's because we haven't taught you all there is to know about neural networks. We still need to cover a few more techniques.\n",
    "## Submitting This Project\n",
    "When submitting this project, make sure to run all the cells before saving the notebook.  Save the notebook file as \"dlnd_image_classification.ipynb\" and save it as a HTML file under \"File\" -> \"Download as\".  Include the \"helper.py\" and \"problem_unittests.py\" files in your submission."
   ]
  },
  {
   "cell_type": "code",
   "execution_count": null,
   "metadata": {
    "collapsed": true
   },
   "outputs": [],
   "source": []
  }
 ],
 "metadata": {
  "kernelspec": {
   "display_name": "Python 3",
   "language": "python",
   "name": "python3"
  },
  "language_info": {
   "codemirror_mode": {
    "name": "ipython",
    "version": 3
   },
   "file_extension": ".py",
   "mimetype": "text/x-python",
   "name": "python",
   "nbconvert_exporter": "python",
   "pygments_lexer": "ipython3",
   "version": "3.5.3"
  }
 },
 "nbformat": 4,
 "nbformat_minor": 0
}
